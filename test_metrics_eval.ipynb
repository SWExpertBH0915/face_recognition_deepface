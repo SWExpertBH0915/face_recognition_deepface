{
 "cells": [
  {
   "cell_type": "code",
   "execution_count": 1,
   "metadata": {},
   "outputs": [],
   "source": [
    "from deepface import DeepFace\n",
    "from deepface.commons import functions, realtime, distance as dst\n",
    "from imutils import paths"
   ]
  },
  {
   "cell_type": "code",
   "execution_count": 57,
   "metadata": {},
   "outputs": [],
   "source": [
    "imagePaths = list(paths.list_images(\"./img\"))\n",
    "embeddedDataPath = './embedding/embeddings.pickle'\n",
    "representations = {}\n",
    "knownEmbeddings = []\n",
    "knownNames = []\n",
    "models = [\n",
    "  \"VGG-Face\", \n",
    "  \"Facenet\", \n",
    "  \"Facenet512\", \n",
    "  \"OpenFace\", \n",
    "  \"DeepFace\", \n",
    "  \"DeepID\", \n",
    "  \"ArcFace\", \n",
    "  \"Dlib\", \n",
    "  \"SFace\",\n",
    "]\n",
    "backends = [\n",
    "  'opencv', \n",
    "  'ssd', \n",
    "  'dlib', \n",
    "  'mtcnn', \n",
    "  'retinaface', \n",
    "  'mediapipe'\n",
    "]\n",
    "metrics = [\"cosine\", \"euclidean\", \"euclidean_l2\"]\n"
   ]
  },
  {
   "cell_type": "code",
   "execution_count": 49,
   "metadata": {},
   "outputs": [],
   "source": [
    "# Save embedded faces to pickle using Facenet512 model and dlib detector\n",
    "model = models[2]\n",
    "bakcend = backends[4]\n",
    "for (i, imagePath) in enumerate(imagePaths):    \n",
    "    name = imagePath.split(os.path.sep)[-1].split('.')[0]\n",
    "    representation = DeepFace.represent(img_path = imagePath, model_name = model, detector_backend = bakcend)[0][\"embedding\"]\n",
    "    knownNames.append(name)\n",
    "    knownEmbeddings.append(representation)\n",
    "    representations = {\"embeddings\": knownEmbeddings, \"names\": knownNames}\n",
    "f = open(embeddedDataPath, \"wb\")\n",
    "f.write(pickle.dumps(representations))\n",
    "f.close()"
   ]
  },
  {
   "cell_type": "code",
   "execution_count": 65,
   "metadata": {},
   "outputs": [],
   "source": [
    "target_path = './face7.jpeg'\n",
    "target_representation = DeepFace.represent(img_path = target_path, model_name = model, detector_backend = bakcend)[0][\"embedding\"]"
   ]
  },
  {
   "cell_type": "code",
   "execution_count": 66,
   "metadata": {},
   "outputs": [],
   "source": [
    "representations = pickle.loads(open(embeddedDataPath, \"rb\").read())\n",
    "names = representations['names']\n",
    "embeddings = representations['embeddings']"
   ]
  },
  {
   "cell_type": "code",
   "execution_count": 67,
   "metadata": {},
   "outputs": [
    {
     "name": "stdout",
     "output_type": "stream",
     "text": [
      "face1 : 0.3320837383593721     Time: 0.0009975433349609375\n",
      "face2 : 0.34847822874285805     Time: 0.0\n",
      "face3 : 0.8960321464094484     Time: 0.0010051727294921875\n",
      "face4 : 0.5965521139674299     Time: 0.0\n",
      "face5 : 0.46052702914244914     Time: 0.0\n",
      "face6 : 0.39279510227765324     Time: 0.0009980201721191406\n"
     ]
    }
   ],
   "source": [
    "# Cosine Distance\n",
    "for name, embedding in zip(names, embeddings):\n",
    "    starttime = time.time()\n",
    "    distance = dst.findCosineDistance(embedding, target_representation)\n",
    "    endtime = time.time()\n",
    "    print(name, ':', distance, '    Time:', endtime - starttime)"
   ]
  },
  {
   "cell_type": "code",
   "execution_count": 68,
   "metadata": {},
   "outputs": [
    {
     "name": "stdout",
     "output_type": "stream",
     "text": [
      "face1 : 18.788270321323253     Time: 0.0\n",
      "face2 : 18.724739230249057     Time: 0.0010037422180175781\n",
      "face3 : 31.092639684672665     Time: 0.0\n",
      "face4 : 25.657002678819534     Time: 0.0\n",
      "face5 : 21.8182437814711     Time: 0.0\n",
      "face6 : 20.115086165990522     Time: 0.0\n"
     ]
    }
   ],
   "source": [
    "# Euclidean Distance\n",
    "for name, embedding in zip(names, embeddings):\n",
    "    starttime = time.time()\n",
    "    distance = dst.findEuclideanDistance(embedding, target_representation)\n",
    "    endtime = time.time()\n",
    "    print(name, ':', distance, '    Time:', endtime - starttime)"
   ]
  },
  {
   "cell_type": "code",
   "execution_count": 69,
   "metadata": {},
   "outputs": [
    {
     "name": "stdout",
     "output_type": "stream",
     "text": [
      "face1 : 0.3320837383593721     Time: 5.927147150039673\n",
      "face2 : 0.34847822874285805     Time: 6.60532546043396\n",
      "face3 : 0.8960321464094484     Time: 6.489635705947876\n",
      "face4 : 0.5965521139674299     Time: 5.579071044921875\n",
      "face5 : 0.46052702914244914     Time: 6.307124376296997\n",
      "face6 : 0.39279510227765324     Time: 7.5258629322052\n"
     ]
    }
   ],
   "source": [
    "# Cosine Distance\n",
    "metric = metrics[0]\n",
    "for imagePath in imagePaths:\n",
    "    name = imagePath.split(os.path.sep)[-1].split('.')[0]\n",
    "    starttime = time.time()\n",
    "    result = DeepFace.verify(img1_path = imagePath, \n",
    "          img2_path = target_path,\n",
    "          model_name=model,\n",
    "          detector_backend = bakcend, \n",
    "          distance_metric = metric\n",
    "    )\n",
    "    endtime = time.time()\n",
    "    print(name, ':', result['distance'], '    Time:', endtime - starttime)\n"
   ]
  },
  {
   "cell_type": "code",
   "execution_count": 70,
   "metadata": {},
   "outputs": [
    {
     "name": "stdout",
     "output_type": "stream",
     "text": [
      "face1 : 18.788270321323253     Time: 7.5258629322052\n",
      "face2 : 18.724739230249057     Time: 7.5258629322052\n",
      "face3 : 31.092639684672665     Time: 7.5258629322052\n",
      "face4 : 25.657002678819534     Time: 7.5258629322052\n",
      "face5 : 21.8182437814711     Time: 7.5258629322052\n",
      "face6 : 20.115086165990522     Time: 7.5258629322052\n"
     ]
    }
   ],
   "source": [
    "# Euclidean Distance\n",
    "metric = metrics[1]\n",
    "for imagePath in imagePaths:\n",
    "    name = imagePath.split(os.path.sep)[-1].split('.')[0]\n",
    "    result = DeepFace.verify(img1_path = imagePath, \n",
    "          img2_path = target_path,\n",
    "          model_name=model,\n",
    "          detector_backend = bakcend, \n",
    "          distance_metric = metric\n",
    "    )\n",
    "    print(name, ':', result['distance'], '    Time:', endtime - starttime)"
   ]
  },
  {
   "cell_type": "code",
   "execution_count": 71,
   "metadata": {},
   "outputs": [
    {
     "name": "stdout",
     "output_type": "stream",
     "text": [
      "face1 : 0.8149647088793138     Time: 7.5258629322052\n",
      "face2 : 0.8348391806124796     Time: 7.5258629322052\n",
      "face3 : 1.3386800561817962     Time: 7.5258629322052\n",
      "face4 : 1.0922931053224036     Time: 7.5258629322052\n",
      "face5 : 0.9597156132338883     Time: 7.5258629322052\n",
      "face6 : 0.8863352664513054     Time: 7.5258629322052\n"
     ]
    }
   ],
   "source": [
    "# Euclidean L2 Distance\n",
    "metric = metrics[2]\n",
    "for imagePath in imagePaths:\n",
    "    name = imagePath.split(os.path.sep)[-1].split('.')[0]\n",
    "    result = DeepFace.verify(img1_path = imagePath, \n",
    "          img2_path = target_path,\n",
    "          model_name=model,\n",
    "          detector_backend = bakcend, \n",
    "          distance_metric = metric\n",
    "    )\n",
    "    print(name, ':', result['distance'], '    Time:', endtime - starttime)"
   ]
  }
 ],
 "metadata": {
  "kernelspec": {
   "display_name": "Python 3",
   "language": "python",
   "name": "python3"
  },
  "language_info": {
   "codemirror_mode": {
    "name": "ipython",
    "version": 3
   },
   "file_extension": ".py",
   "mimetype": "text/x-python",
   "name": "python",
   "nbconvert_exporter": "python",
   "pygments_lexer": "ipython3",
   "version": "3.10.4"
  },
  "orig_nbformat": 4,
  "vscode": {
   "interpreter": {
    "hash": "07eefbb724a56d0ab80257500fd1c4bda3382990123b0ccd03110414422d8062"
   }
  }
 },
 "nbformat": 4,
 "nbformat_minor": 2
}
