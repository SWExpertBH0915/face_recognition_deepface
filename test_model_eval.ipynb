{
 "cells": [
  {
   "cell_type": "code",
   "execution_count": 41,
   "metadata": {},
   "outputs": [],
   "source": [
    "from deepface import DeepFace"
   ]
  },
  {
   "cell_type": "code",
   "execution_count": 43,
   "metadata": {},
   "outputs": [],
   "source": [
    "from imutils import paths\n",
    "import numpy as np\n",
    "import time"
   ]
  },
  {
   "cell_type": "code",
   "execution_count": 44,
   "metadata": {},
   "outputs": [],
   "source": [
    "models = [\n",
    "  \"VGG-Face\", \n",
    "  \"Facenet\", \n",
    "  \"Facenet512\", \n",
    "  \"OpenFace\", \n",
    "  \"DeepFace\", \n",
    "  \"DeepID\", \n",
    "  \"ArcFace\", \n",
    "  \"Dlib\", \n",
    "  \"SFace\",\n",
    "]\n",
    "backends = [\n",
    "  'opencv', \n",
    "  'ssd', \n",
    "  'dlib', \n",
    "  'mtcnn', \n",
    "  'retinaface'\n",
    "]\n",
    "metrics = [\"cosine\", \"euclidean\", \"euclidean_l2\"]"
   ]
  },
  {
   "cell_type": "code",
   "execution_count": 47,
   "metadata": {},
   "outputs": [
    {
     "name": "stdout",
     "output_type": "stream",
     "text": [
      "opencv 0.574296236038208\n",
      "ssd 0.5000994205474854\n",
      "dlib 2.057396650314331\n",
      "1/1 [==============================] - 1s 921ms/step\n",
      "1/1 [==============================] - 1s 538ms/step\n",
      "1/1 [==============================] - 0s 445ms/step\n",
      "1/1 [==============================] - 0s 119ms/step\n",
      "1/1 [==============================] - 0s 473ms/step\n",
      "1/1 [==============================] - 0s 249ms/step\n",
      "1/1 [==============================] - 0s 218ms/step\n",
      "1/1 [==============================] - 0s 83ms/step\n",
      "1/1 [==============================] - 0s 350ms/step\n",
      "1/1 [==============================] - 0s 80ms/step\n",
      "1/1 [==============================] - 0s 99ms/step\n",
      "1/1 [==============================] - 0s 339ms/step\n",
      "1/1 [==============================] - 1s 674ms/step\n",
      "5/5 [==============================] - 1s 29ms/step\n",
      "1/1 [==============================] - 1s 685ms/step\n",
      "mtcnn 20.40595769882202\n",
      "retinaface 4.4647440910339355\n"
     ]
    }
   ],
   "source": [
    "# Detection Speed of each models\n",
    "for backend in backends:\n",
    "        starttime = time.time()\n",
    "        face_objs = DeepFace.extract_faces(img_path = \"./img/face2.jpeg\", \n",
    "                target_size = (224, 224), \n",
    "                detector_backend = backend\n",
    "        )\n",
    "        endtime = time.time()\n",
    "        print(backend, endtime - starttime)"
   ]
  },
  {
   "cell_type": "code",
   "execution_count": 50,
   "metadata": {},
   "outputs": [
    {
     "name": "stdout",
     "output_type": "stream",
     "text": [
      "-------------------------------\n",
      "Model:  VGG-Face\n",
      "Time:  2.466015338897705\n",
      "Dimension:  2622\n",
      "Size:  2622\n",
      "\n",
      "\n",
      "-------------------------------\n",
      "Model:  Facenet\n",
      "Time:  2.2077739238739014\n",
      "Dimension:  128\n",
      "Size:  128\n",
      "\n",
      "\n",
      "-------------------------------\n",
      "Model:  Facenet512\n",
      "Time:  2.207878828048706\n",
      "Dimension:  512\n",
      "Size:  512\n",
      "\n",
      "\n",
      "-------------------------------\n",
      "Model:  OpenFace\n",
      "Time:  2.6377251148223877\n",
      "Dimension:  128\n",
      "Size:  128\n",
      "\n",
      "\n",
      "-------------------------------\n",
      "Model:  DeepFace\n",
      "Time:  2.988081216812134\n",
      "Dimension:  4096\n",
      "Size:  4096\n",
      "\n",
      "\n",
      "-------------------------------\n",
      "Model:  DeepID\n",
      "Time:  2.204096555709839\n",
      "Dimension:  160\n",
      "Size:  160\n",
      "\n",
      "\n",
      "-------------------------------\n",
      "Model:  ArcFace\n",
      "Time:  3.527735710144043\n",
      "Dimension:  512\n",
      "Size:  512\n",
      "\n",
      "\n",
      "-------------------------------\n",
      "Model:  Dlib\n",
      "Time:  2.768808364868164\n",
      "Dimension:  128\n",
      "Size:  128\n",
      "\n",
      "\n",
      "-------------------------------\n",
      "Model:  SFace\n",
      "Time:  2.408867359161377\n",
      "Dimension:  128\n",
      "Size:  128\n",
      "\n",
      "\n"
     ]
    }
   ],
   "source": [
    "# Using several models\n",
    "embedding_objs =  []\n",
    "for model in models:\n",
    "        starttime = time.time()\n",
    "        embedding_obj = DeepFace.represent(img_path = \"./img/face2.jpeg\",\n",
    "                model_name = model, \n",
    "                detector_backend = backends[2],\n",
    "                enforce_detection=False\n",
    "        )\n",
    "        endtime = time.time()\n",
    "        print('-------------------------------')\n",
    "        print(\"Model: \", model)\n",
    "        print(\"Time: \", endtime - starttime)\n",
    "        print('Dimension: ', len(embedding_obj[0]['embedding']))\n",
    "        print('Size: ', len(embedding_obj[0]['embedding']))\n",
    "        print('\\n')\n",
    "        embedding_objs.append(embedding_obj)"
   ]
  },
  {
   "cell_type": "code",
   "execution_count": null,
   "metadata": {},
   "outputs": [],
   "source": []
  }
 ],
 "metadata": {
  "kernelspec": {
   "display_name": "Python 3",
   "language": "python",
   "name": "python3"
  },
  "language_info": {
   "codemirror_mode": {
    "name": "ipython",
    "version": 3
   },
   "file_extension": ".py",
   "mimetype": "text/x-python",
   "name": "python",
   "nbconvert_exporter": "python",
   "pygments_lexer": "ipython3",
   "version": "3.10.4"
  },
  "orig_nbformat": 4
 },
 "nbformat": 4,
 "nbformat_minor": 2
}
